{
 "metadata": {
  "language_info": {
   "codemirror_mode": {
    "name": "ipython",
    "version": 3
   },
   "file_extension": ".py",
   "mimetype": "text/x-python",
   "name": "python",
   "nbconvert_exporter": "python",
   "pygments_lexer": "ipython3",
   "version": "3.7.4-final"
  },
  "orig_nbformat": 2,
  "kernelspec": {
   "name": "python_defaultSpec_1604402368278",
   "display_name": "Python 3.7.4 64-bit ('base': conda)"
  }
 },
 "nbformat": 4,
 "nbformat_minor": 2,
 "cells": [
  {
   "cell_type": "markdown",
   "metadata": {},
   "source": [
    "In this project we learn how to use genetics algorithm to find a suitable solution for our problem.\n",
    "In this project we have 6 gates and we need to predict the gates that would give us the desired outcome according to their inputs.\n",
    "To get the desired results, first we make a population. Then, a part of our population produces children based on different probabilities achieved by giving fitter parts of population more chance to reproduce. "
   ]
  },
  {
   "cell_type": "markdown",
   "metadata": {},
   "source": [
    "PHASE 1"
   ]
  },
  {
   "cell_type": "markdown",
   "metadata": {},
   "source": [
    "In this phase we define our chromosomes and the genes.\n",
    "We define each chromosome as a set of gates in which each gene is a gate."
   ]
  },
  {
   "cell_type": "markdown",
   "metadata": {},
   "source": [
    "According to the defined problem we have 10 inputs, hence we need 9 gates, but it should be changed according to the input file."
   ]
  },
  {
   "cell_type": "code",
   "execution_count": 4648,
   "metadata": {},
   "outputs": [],
   "source": [
    "import numpy as np\n",
    "import csv\n",
    "import pandas as pd\n",
    "from numpy import random\n",
    "dif_bet_input_and_gates = 1\n",
    "num_of_output = 1"
   ]
  },
  {
   "cell_type": "code",
   "execution_count": 4649,
   "metadata": {},
   "outputs": [],
   "source": [
    "truth_table = pd.read_csv('truth_table.csv').to_numpy()"
   ]
  },
  {
   "cell_type": "code",
   "execution_count": 4650,
   "metadata": {},
   "outputs": [
    {
     "output_type": "execute_result",
     "data": {
      "text/plain": "array([[False, False, False, ..., False, False,  True],\n       [False, False, False, ..., False,  True, False],\n       [False, False, False, ...,  True, False, False],\n       ...,\n       [ True,  True,  True, ..., False,  True, False],\n       [ True,  True,  True, ...,  True, False,  True],\n       [ True,  True,  True, ...,  True,  True, False]])"
     },
     "metadata": {},
     "execution_count": 4650
    }
   ],
   "source": [
    "truth_table"
   ]
  },
  {
   "cell_type": "code",
   "execution_count": 4651,
   "metadata": {},
   "outputs": [],
   "source": [
    "num_of_genes= truth_table.shape[1] - dif_bet_input_and_gates - num_of_output\n",
    "num_of_inputs=truth_table.shape[1] - num_of_output"
   ]
  },
  {
   "cell_type": "code",
   "execution_count": 4652,
   "metadata": {},
   "outputs": [
    {
     "output_type": "execute_result",
     "data": {
      "text/plain": "9"
     },
     "metadata": {},
     "execution_count": 4652
    }
   ],
   "source": [
    "num_of_genes"
   ]
  },
  {
   "cell_type": "code",
   "execution_count": 4653,
   "metadata": {},
   "outputs": [
    {
     "output_type": "execute_result",
     "data": {
      "text/plain": "10"
     },
     "metadata": {},
     "execution_count": 4653
    }
   ],
   "source": [
    "num_of_inputs"
   ]
  },
  {
   "cell_type": "code",
   "execution_count": 4654,
   "metadata": {},
   "outputs": [],
   "source": [
    "gates = ['and','or','xor','nand','nor','xnor']"
   ]
  },
  {
   "source": [
    "PHASE 2"
   ],
   "cell_type": "markdown",
   "metadata": {}
  },
  {
   "source": [
    "In this phase we need to produce our population. We can set the size of the population ourselves. The speed of getting our desired results may be different for different population sizes.\n",
    "We set our population twice the number of our genes."
   ],
   "cell_type": "markdown",
   "metadata": {}
  },
  {
   "source": [
    "population_scale_to_genes=2\n",
    "num_of_chromosomes = population_scale_to_genes * num_of_genes"
   ],
   "cell_type": "code",
   "metadata": {},
   "execution_count": 4655,
   "outputs": []
  },
  {
   "source": [
    "In this part we create the first population without any particular directions. We pick give each one of our 6 gates a number and we pick the genes randomly."
   ],
   "cell_type": "markdown",
   "metadata": {}
  },
  {
   "cell_type": "code",
   "execution_count": 4656,
   "metadata": {},
   "outputs": [],
   "source": [
    "population = random.randint(6, size=(num_of_chromosomes, num_of_genes))\n"
   ]
  },
  {
   "cell_type": "code",
   "execution_count": 4657,
   "metadata": {},
   "outputs": [
    {
     "output_type": "execute_result",
     "data": {
      "text/plain": "array([[5, 2, 4, 3, 4, 4, 4, 2, 1],\n       [0, 0, 0, 3, 0, 3, 5, 0, 2],\n       [2, 1, 0, 1, 3, 0, 2, 1, 5],\n       [2, 3, 0, 1, 5, 3, 4, 4, 1],\n       [4, 0, 4, 2, 5, 5, 2, 2, 1],\n       [1, 2, 3, 1, 3, 5, 0, 4, 4],\n       [1, 4, 3, 5, 4, 2, 3, 2, 2],\n       [5, 4, 2, 3, 5, 4, 5, 1, 5],\n       [1, 5, 0, 1, 4, 3, 2, 1, 4],\n       [1, 4, 5, 0, 3, 0, 1, 5, 4],\n       [5, 2, 4, 2, 5, 4, 1, 2, 3],\n       [5, 5, 2, 0, 5, 1, 2, 0, 2],\n       [5, 0, 1, 0, 5, 5, 4, 4, 2],\n       [4, 4, 4, 3, 1, 4, 4, 0, 1],\n       [0, 3, 5, 4, 3, 5, 2, 0, 5],\n       [1, 3, 4, 5, 5, 3, 2, 5, 1],\n       [3, 2, 5, 1, 0, 5, 2, 1, 4],\n       [2, 2, 1, 0, 1, 0, 3, 2, 3]])"
     },
     "metadata": {},
     "execution_count": 4657
    }
   ],
   "source": [
    "population"
   ]
  },
  {
   "source": [
    "each number represents a gate."
   ],
   "cell_type": "markdown",
   "metadata": {}
  },
  {
   "cell_type": "code",
   "execution_count": 4658,
   "metadata": {},
   "outputs": [],
   "source": [
    "original_pop=population"
   ]
  },
  {
   "source": [
    "PHASE 3 "
   ],
   "cell_type": "markdown",
   "metadata": {}
  },
  {
   "source": [
    "In this phase we need to define a fitness function. \n",
    "We define better chromosomes as the ones that produce more number of right answers compared to the original answers from our truth tables."
   ],
   "cell_type": "markdown",
   "metadata": {}
  },
  {
   "cell_type": "code",
   "execution_count": 4659,
   "metadata": {},
   "outputs": [],
   "source": [
    "def gate(a, b, str_function):\n",
    "    if str_function=='and':\n",
    "        return (a and b)\n",
    "    if str_function=='or':\n",
    "        return (a or b)\n",
    "    if str_function=='xor':\n",
    "        return (a and not b) or (not a and b)\n",
    "    if str_function=='nand':\n",
    "        return not (a and b)\n",
    "    if str_function=='nor':\n",
    "        return not(a or b)\n",
    "    if str_function=='xnor':\n",
    "        return not((a and not b) or (not a and b))\n",
    "    else:\n",
    "        print('erroneous gene in chromosome')"
   ]
  },
  {
   "cell_type": "code",
   "execution_count": 4660,
   "metadata": {},
   "outputs": [],
   "source": [
    "def cal_single_output(inputs ,chromosome):\n",
    "    output_for_single = inputs[0]\n",
    "    for gene in range(chromosome.shape[0]):\n",
    "        output_for_single = gate(output_for_single,inputs[gene+1],gates[chromosome[gene]])\n",
    "    return output_for_single\n"
   ]
  },
  {
   "cell_type": "code",
   "execution_count": 4661,
   "metadata": {},
   "outputs": [],
   "source": [
    "def cal_all_outputs(truth_table_without_output, chromosome):\n",
    "    outputs_for_chromosome=np.array([])\n",
    "    for row in truth_table_without_output:\n",
    "        outputs_for_chromosome = np.append(outputs_for_chromosome,cal_single_output(row,chromosome))\n",
    "    return outputs_for_chromosome\n"
   ]
  },
  {
   "cell_type": "code",
   "execution_count": 4662,
   "metadata": {},
   "outputs": [],
   "source": [
    "def fitness_function(population,truth_table):\n",
    "    num_of_right_outputs_for_each_chromosome = np.array([])\n",
    "    original_outputs=truth_table[:,num_of_inputs]\n",
    "    #print('original_outputs',original_outputs)\n",
    "    #print('population',population)\n",
    "    for chromosome in population:\n",
    "        output_for_chromosome = cal_all_outputs(truth_table[:,0:num_of_inputs], chromosome)\n",
    "        right_outputs_for_this_chromosome=(output_for_chromosome==original_outputs).sum()\n",
    "        num_of_right_outputs_for_each_chromosome = np.append(num_of_right_outputs_for_each_chromosome,right_outputs_for_this_chromosome)\n",
    "    return num_of_right_outputs_for_each_chromosome"
   ]
  },
  {
   "source": [],
   "cell_type": "markdown",
   "metadata": {}
  },
  {
   "cell_type": "code",
   "execution_count": 4663,
   "metadata": {
    "tags": []
   },
   "outputs": [],
   "source": [
    "fitness_of_population = fitness_function(population,truth_table)"
   ]
  },
  {
   "cell_type": "code",
   "execution_count": 4664,
   "metadata": {
    "tags": []
   },
   "outputs": [
    {
     "output_type": "stream",
     "name": "stdout",
     "text": "[296. 354. 428. 320. 236. 632. 672. 364. 760. 720. 512. 278. 480. 133.\n 726. 224. 840. 512.]\n"
    }
   ],
   "source": [
    "print(fitness_of_population)"
   ]
  },
  {
   "source": [
    "PHASE 4"
   ],
   "cell_type": "markdown",
   "metadata": {}
  },
  {
   "source": [
    "In this phase we first choose parents to have children based on the fitness function. members of the population that have better fitness are more probable to be chosen as parents. First in each generation, we need to shuffle our population.\n"
   ],
   "cell_type": "markdown",
   "metadata": {}
  },
  {
   "cell_type": "code",
   "execution_count": 4665,
   "metadata": {},
   "outputs": [],
   "source": [
    "np.random.shuffle(population)"
   ]
  },
  {
   "source": [
    "The we calculate the fittness for this population:"
   ],
   "cell_type": "markdown",
   "metadata": {}
  },
  {
   "cell_type": "code",
   "execution_count": 4666,
   "metadata": {},
   "outputs": [],
   "source": [
    "fitness_of_population = fitness_function(population,truth_table)"
   ]
  },
  {
   "source": [
    "for selecting mates we use rulette wheel technique. \n",
    "For now we choose half of the population as parents but this can be changed. "
   ],
   "cell_type": "markdown",
   "metadata": {}
  },
  {
   "cell_type": "code",
   "execution_count": 4667,
   "metadata": {},
   "outputs": [],
   "source": [
    "parents_scale_in_each_step=2"
   ]
  },
  {
   "cell_type": "code",
   "execution_count": 4668,
   "metadata": {},
   "outputs": [],
   "source": [
    "num_of_parents=int(num_of_chromosomes/parents_scale_in_each_step)"
   ]
  },
  {
   "cell_type": "code",
   "execution_count": 4669,
   "metadata": {},
   "outputs": [
    {
     "output_type": "execute_result",
     "data": {
      "text/plain": "9"
     },
     "metadata": {},
     "execution_count": 4669
    }
   ],
   "source": [
    "num_of_parents"
   ]
  },
  {
   "cell_type": "code",
   "execution_count": 4670,
   "metadata": {},
   "outputs": [
    {
     "output_type": "execute_result",
     "data": {
      "text/plain": "array([[2, 1, 0, 1, 3, 0, 2, 1, 5],\n       [3, 2, 5, 1, 0, 5, 2, 1, 4],\n       [2, 3, 0, 1, 5, 3, 4, 4, 1],\n       [5, 2, 4, 2, 5, 4, 1, 2, 3],\n       [5, 0, 1, 0, 5, 5, 4, 4, 2],\n       [4, 4, 4, 3, 1, 4, 4, 0, 1],\n       [0, 3, 5, 4, 3, 5, 2, 0, 5],\n       [5, 5, 2, 0, 5, 1, 2, 0, 2],\n       [0, 0, 0, 3, 0, 3, 5, 0, 2],\n       [1, 4, 5, 0, 3, 0, 1, 5, 4],\n       [1, 3, 4, 5, 5, 3, 2, 5, 1],\n       [1, 4, 3, 5, 4, 2, 3, 2, 2],\n       [4, 0, 4, 2, 5, 5, 2, 2, 1],\n       [1, 2, 3, 1, 3, 5, 0, 4, 4],\n       [2, 2, 1, 0, 1, 0, 3, 2, 3],\n       [5, 2, 4, 3, 4, 4, 4, 2, 1],\n       [1, 5, 0, 1, 4, 3, 2, 1, 4],\n       [5, 4, 2, 3, 5, 4, 5, 1, 5]])"
     },
     "metadata": {},
     "execution_count": 4670
    }
   ],
   "source": [
    "population"
   ]
  },
  {
   "cell_type": "code",
   "execution_count": 4671,
   "metadata": {},
   "outputs": [],
   "source": [
    "fitness_of_population = fitness_function(population,truth_table)"
   ]
  },
  {
   "cell_type": "code",
   "execution_count": 4672,
   "metadata": {},
   "outputs": [
    {
     "output_type": "execute_result",
     "data": {
      "text/plain": "array([428., 840., 320., 512., 480., 133., 726., 278., 354., 720., 224.,\n       672., 236., 632., 512., 296., 760., 364.])"
     },
     "metadata": {},
     "execution_count": 4672
    }
   ],
   "source": [
    "fitness_of_population"
   ]
  },
  {
   "cell_type": "code",
   "execution_count": 4673,
   "metadata": {},
   "outputs": [],
   "source": [
    "def index_weighted_random_choice(fitness):\n",
    "    max=fitness.sum()\n",
    "    random_number=random.randint(0,max)\n",
    "    sum=0\n",
    "    for f in range(fitness.shape[0]):\n",
    "        sum+=fitness[f]\n",
    "        if sum>random_number:\n",
    "            fitness[f]=0  #already chosen so should not be chosen again\n",
    "            return f\n",
    "\n"
   ]
  },
  {
   "cell_type": "code",
   "execution_count": 4674,
   "metadata": {},
   "outputs": [],
   "source": [
    "def new_population(fitness_of_population,population,num_of_parents):\n",
    "    new_mates=np.zeros(num_of_parents)\n",
    "    chosen_indexes=np.array([])\n",
    "    chosen_index = index_weighted_random_choice(fitness_of_population)\n",
    "    chosen_indexes=np.append(chosen_indexes,chosen_index)\n",
    "    new_mates=np.array([population[chosen_index]])\n",
    "    for i in range(num_of_parents-1):\n",
    "        chosen_index = index_weighted_random_choice(fitness_of_population)\n",
    "        chosen_indexes=np.append(chosen_indexes,chosen_index)\n",
    "        new_mates=np.append(new_mates,[population[chosen_index]],0)\n",
    "    population=np.delete(population,chosen_indexes,0) # without chosen mates\n",
    "    return population, new_mates"
   ]
  },
  {
   "cell_type": "code",
   "execution_count": 4675,
   "metadata": {
    "tags": []
   },
   "outputs": [],
   "source": [
    "population, new_mates = new_population(fitness_of_population,population,num_of_parents)"
   ]
  },
  {
   "source": [
    "now we have two arrays population will stay the same and the new mates will have childern which will be then added to the population\n"
   ],
   "cell_type": "markdown",
   "metadata": {}
  },
  {
   "cell_type": "code",
   "execution_count": 4676,
   "metadata": {},
   "outputs": [
    {
     "output_type": "execute_result",
     "data": {
      "text/plain": "array([[2, 1, 0, 1, 3, 0, 2, 1, 5],\n       [2, 3, 0, 1, 5, 3, 4, 4, 1],\n       [4, 4, 4, 3, 1, 4, 4, 0, 1],\n       [0, 0, 0, 3, 0, 3, 5, 0, 2],\n       [1, 3, 4, 5, 5, 3, 2, 5, 1],\n       [4, 0, 4, 2, 5, 5, 2, 2, 1],\n       [2, 2, 1, 0, 1, 0, 3, 2, 3],\n       [5, 2, 4, 3, 4, 4, 4, 2, 1],\n       [5, 4, 2, 3, 5, 4, 5, 1, 5]])"
     },
     "metadata": {},
     "execution_count": 4676
    }
   ],
   "source": [
    "population"
   ]
  },
  {
   "cell_type": "code",
   "execution_count": 4677,
   "metadata": {},
   "outputs": [
    {
     "output_type": "execute_result",
     "data": {
      "text/plain": "array([[1, 4, 5, 0, 3, 0, 1, 5, 4],\n       [5, 5, 2, 0, 5, 1, 2, 0, 2],\n       [0, 3, 5, 4, 3, 5, 2, 0, 5],\n       [5, 2, 4, 2, 5, 4, 1, 2, 3],\n       [1, 2, 3, 1, 3, 5, 0, 4, 4],\n       [5, 0, 1, 0, 5, 5, 4, 4, 2],\n       [1, 5, 0, 1, 4, 3, 2, 1, 4],\n       [1, 4, 3, 5, 4, 2, 3, 2, 2],\n       [3, 2, 5, 1, 0, 5, 2, 1, 4]])"
     },
     "metadata": {},
     "execution_count": 4677
    }
   ],
   "source": [
    "new_mates"
   ]
  },
  {
   "source": [
    "Having our mates we produce the children using different crossovers.\n",
    "In each crossover consecutive mates produce childern."
   ],
   "cell_type": "markdown",
   "metadata": {}
  },
  {
   "source": [
    "In uniform crossover we assign head to the first childern and flip a coin on choosing one of the parents to copy."
   ],
   "cell_type": "markdown",
   "metadata": {}
  },
  {
   "cell_type": "code",
   "execution_count": 4678,
   "metadata": {},
   "outputs": [],
   "source": [
    "def two_children_from_two_parents(mate_1,mate_2):\n",
    "    first_child=[]\n",
    "    second_child=[]\n",
    "    for i in range(mate_1.shape[0]):\n",
    "        coin=random.randint(2)\n",
    "        if coin:\n",
    "            first_child=np.append(first_child,mate_1[i])\n",
    "            second_child=np.append(second_child,mate_2[i])\n",
    "        else:\n",
    "            first_child=np.append(first_child,mate_2[i])\n",
    "            second_child=np.append(second_child,mate_1[i])\n",
    "    return first_child,second_child\n",
    "\n"
   ]
  },
  {
   "cell_type": "code",
   "execution_count": 4679,
   "metadata": {},
   "outputs": [],
   "source": [
    "def uniform_crossover(mates):\n",
    "    for i in range(0,mates.shape[0]-1,2):\n",
    "        mates[i],mates[i+1] = two_children_from_two_parents(mates[i],mates[i+1])\n",
    "    return mates\n",
    "\n",
    "    \n",
    "\n"
   ]
  },
  {
   "cell_type": "code",
   "execution_count": 4680,
   "metadata": {},
   "outputs": [],
   "source": [
    "children = uniform_crossover(new_mates)"
   ]
  },
  {
   "cell_type": "code",
   "execution_count": 4681,
   "metadata": {},
   "outputs": [
    {
     "output_type": "execute_result",
     "data": {
      "text/plain": "array([[5, 4, 5, 0, 5, 0, 2, 5, 2],\n       [1, 5, 2, 0, 3, 1, 1, 0, 4],\n       [5, 2, 5, 4, 5, 5, 1, 0, 5],\n       [0, 3, 4, 2, 3, 4, 2, 2, 3],\n       [1, 2, 3, 1, 5, 5, 0, 4, 4],\n       [5, 0, 1, 0, 3, 5, 4, 4, 2],\n       [1, 4, 0, 5, 4, 3, 2, 2, 4],\n       [1, 5, 3, 1, 4, 2, 3, 1, 2],\n       [3, 2, 5, 1, 0, 5, 2, 1, 4]])"
     },
     "metadata": {},
     "execution_count": 4681
    }
   ],
   "source": [
    "children"
   ]
  },
  {
   "source": [
    "Now that we have our crossover, we need to have mutation for each gene individually with a probability which we set."
   ],
   "cell_type": "markdown",
   "metadata": {}
  },
  {
   "cell_type": "code",
   "execution_count": 4682,
   "metadata": {},
   "outputs": [],
   "source": [
    "prob_of_mutation=0.01"
   ]
  },
  {
   "cell_type": "code",
   "execution_count": 4683,
   "metadata": {},
   "outputs": [],
   "source": [
    "def mutation(children):\n",
    "    for i in range(children.shape[0]):\n",
    "        for j in range(children.shape[0]):\n",
    "            prob=random.randint(100)/100\n",
    "            if prob<prob_of_mutation:\n",
    "                children[i][j]=random.randint(6)\n",
    "    return children"
   ]
  },
  {
   "cell_type": "code",
   "execution_count": 4684,
   "metadata": {
    "tags": []
   },
   "outputs": [],
   "source": [
    "mutated_children = mutation(children)"
   ]
  },
  {
   "cell_type": "code",
   "execution_count": 4685,
   "metadata": {},
   "outputs": [
    {
     "output_type": "execute_result",
     "data": {
      "text/plain": "array([[5, 4, 5, 0, 5, 0, 2, 5, 2],\n       [1, 5, 2, 0, 3, 1, 1, 0, 4],\n       [5, 2, 5, 4, 5, 5, 1, 0, 5],\n       [0, 3, 4, 2, 3, 4, 2, 2, 3],\n       [1, 2, 3, 1, 5, 5, 0, 4, 4],\n       [5, 0, 1, 0, 3, 5, 4, 4, 2],\n       [1, 4, 0, 5, 4, 3, 2, 2, 4],\n       [1, 5, 3, 1, 4, 2, 3, 1, 2],\n       [3, 2, 5, 1, 0, 5, 2, 1, 4]])"
     },
     "metadata": {},
     "execution_count": 4685
    }
   ],
   "source": [
    "mutated_children"
   ]
  },
  {
   "source": [
    "Now that we have our children, we need to make our new population using a part of old population and new children."
   ],
   "cell_type": "markdown",
   "metadata": {}
  },
  {
   "cell_type": "code",
   "execution_count": 4686,
   "metadata": {},
   "outputs": [],
   "source": [
    "population=np.append(population,mutated_children,0)"
   ]
  },
  {
   "cell_type": "code",
   "execution_count": 4687,
   "metadata": {},
   "outputs": [
    {
     "output_type": "execute_result",
     "data": {
      "text/plain": "array([[2, 1, 0, 1, 3, 0, 2, 1, 5],\n       [2, 3, 0, 1, 5, 3, 4, 4, 1],\n       [4, 4, 4, 3, 1, 4, 4, 0, 1],\n       [0, 0, 0, 3, 0, 3, 5, 0, 2],\n       [1, 3, 4, 5, 5, 3, 2, 5, 1],\n       [4, 0, 4, 2, 5, 5, 2, 2, 1],\n       [2, 2, 1, 0, 1, 0, 3, 2, 3],\n       [5, 2, 4, 3, 4, 4, 4, 2, 1],\n       [5, 4, 2, 3, 5, 4, 5, 1, 5],\n       [5, 4, 5, 0, 5, 0, 2, 5, 2],\n       [1, 5, 2, 0, 3, 1, 1, 0, 4],\n       [5, 2, 5, 4, 5, 5, 1, 0, 5],\n       [0, 3, 4, 2, 3, 4, 2, 2, 3],\n       [1, 2, 3, 1, 5, 5, 0, 4, 4],\n       [5, 0, 1, 0, 3, 5, 4, 4, 2],\n       [1, 4, 0, 5, 4, 3, 2, 2, 4],\n       [1, 5, 3, 1, 4, 2, 3, 1, 2],\n       [3, 2, 5, 1, 0, 5, 2, 1, 4]])"
     },
     "metadata": {},
     "execution_count": 4687
    }
   ],
   "source": [
    "population"
   ]
  },
  {
   "source": [
    "we can now produce our new fittness"
   ],
   "cell_type": "markdown",
   "metadata": {}
  },
  {
   "cell_type": "code",
   "execution_count": 4688,
   "metadata": {},
   "outputs": [
    {
     "output_type": "execute_result",
     "data": {
      "text/plain": "array([428., 320., 133., 354., 224., 236., 512., 296., 364., 544., 856.,\n       608., 512., 672., 480., 672., 760., 840.])"
     },
     "metadata": {},
     "execution_count": 4688
    }
   ],
   "source": [
    "fitness_function(population,truth_table)"
   ]
  },
  {
   "source": [
    "Because we have only had one generation, we can not see promising results."
   ],
   "cell_type": "markdown",
   "metadata": {}
  },
  {
   "cell_type": "code",
   "execution_count": 4689,
   "metadata": {},
   "outputs": [],
   "source": [
    "num_of_generations=5"
   ]
  },
  {
   "cell_type": "code",
   "execution_count": 4690,
   "metadata": {},
   "outputs": [],
   "source": [
    "def all_generation(num_of_generations,population,truth_table):\n",
    "    max_of_each_iteration=[]\n",
    "    for i in range(num_of_generations):\n",
    "        np.random.shuffle(population)\n",
    "        fitness_of_population = fitness_function(population,truth_table)\n",
    "        population, new_mates = new_population(fitness_of_population,population,num_of_parents)\n",
    "        children = uniform_crossover(new_mates)\n",
    "        mutated_children = mutation(children)\n",
    "        population=np.append(population,mutated_children,0)\n",
    "        current_max=max(fitness_function(population,truth_table))\n",
    "        max_of_each_iteration=np.append(max_of_each_iteration,current_max)\n",
    "    return max_of_each_iteration\n"
   ]
  },
  {
   "cell_type": "code",
   "execution_count": 4691,
   "metadata": {
    "tags": []
   },
   "outputs": [
    {
     "output_type": "execute_result",
     "data": {
      "text/plain": "array([856., 892., 868., 868., 880.])"
     },
     "metadata": {},
     "execution_count": 4691
    }
   ],
   "source": [
    "all_generation(num_of_generations,population,truth_table)\n"
   ]
  },
  {
   "source": [
    "We can see that after 5 generations the outcome has improved inconsistently. We continue:"
   ],
   "cell_type": "markdown",
   "metadata": {}
  },
  {
   "cell_type": "code",
   "execution_count": 4692,
   "metadata": {},
   "outputs": [
    {
     "output_type": "execute_result",
     "data": {
      "text/plain": "array([840., 832., 772., 868., 940.])"
     },
     "metadata": {},
     "execution_count": 4692
    }
   ],
   "source": [
    "num_of_generations=5\n",
    "all_generation(num_of_generations,population,truth_table)"
   ]
  },
  {
   "cell_type": "code",
   "execution_count": 4693,
   "metadata": {},
   "outputs": [
    {
     "output_type": "execute_result",
     "data": {
      "text/plain": "array([848., 856., 828., 824., 808., 928., 928., 850., 864., 816., 784.,\n       864., 864., 864., 864., 864., 904., 904., 896., 896., 896., 872.,\n       872., 848., 816., 832., 876., 832., 864., 810., 868., 868., 868.,\n       800., 800., 856., 878., 894., 760., 784., 864., 888., 872., 888.,\n       824., 864., 842., 872., 896., 896.])"
     },
     "metadata": {},
     "execution_count": 4693
    }
   ],
   "source": [
    "num_of_generations=50\n",
    "all_generation(num_of_generations,population,truth_table)"
   ]
  },
  {
   "source": [
    "By continuing we can see more consistency."
   ],
   "cell_type": "markdown",
   "metadata": {}
  },
  {
   "source": [
    "PHASE 5 "
   ],
   "cell_type": "markdown",
   "metadata": {}
  },
  {
   "source": [
    "Q1.  I chose my fitness function the number of the correct answers produced by our getes. This is because the more correct answers it produces, the more gates we've probably got right. "
   ],
   "cell_type": "markdown",
   "metadata": {}
  },
  {
   "source": [
    "Q2. Uniform crossover has been used to increase the chance of producing different combinations of gates. "
   ],
   "cell_type": "markdown",
   "metadata": {}
  },
  {
   "source": [
    "Q3. since we have used uniform crossover, we have used 0.5 probability, but we have the prob_of_mutation used for mutation. We know that this probabilty helps when we reach a particular outcome. The higher it is the faster we can come out of consistent outcomes.\n",
    "We can change this probability to see how it effects our results."
   ],
   "cell_type": "markdown",
   "metadata": {}
  },
  {
   "cell_type": "code",
   "execution_count": 4694,
   "metadata": {},
   "outputs": [
    {
     "output_type": "execute_result",
     "data": {
      "text/plain": "array([848., 848., 848., 872., 872., 832., 820., 752., 736., 728.])"
     },
     "metadata": {},
     "execution_count": 4694
    }
   ],
   "source": [
    "prob_of_mutation=0.1\n",
    "population=original_pop\n",
    "num_of_generations=10\n",
    "all_generation(num_of_generations,population,truth_table)"
   ]
  },
  {
   "source": [
    "we can see that overall increasing this probability helps with the results but since the original population is chosen randomly, we can not say for sure. Hence we try this with a stable begining population."
   ],
   "cell_type": "markdown",
   "metadata": {}
  },
  {
   "cell_type": "code",
   "execution_count": 4695,
   "metadata": {},
   "outputs": [
    {
     "output_type": "execute_result",
     "data": {
      "text/plain": "array([848., 796., 704., 896., 864., 976., 960., 880., 944., 754.])"
     },
     "metadata": {},
     "execution_count": 4695
    }
   ],
   "source": [
    "population = np.zeros([num_of_chromosomes, num_of_genes])\n",
    "prob_of_mutation=0.01\n",
    "population=original_pop\n",
    "num_of_generations=10\n",
    "all_generation(num_of_generations,population,truth_table)"
   ]
  },
  {
   "cell_type": "code",
   "execution_count": 4696,
   "metadata": {},
   "outputs": [
    {
     "output_type": "execute_result",
     "data": {
      "text/plain": "array([892., 892., 896., 896., 888., 880., 864., 832., 876., 876.])"
     },
     "metadata": {},
     "execution_count": 4696
    }
   ],
   "source": [
    "population = np.zeros([num_of_chromosomes, num_of_genes])\n",
    "prob_of_mutation=0.1\n",
    "population=original_pop\n",
    "num_of_generations=10\n",
    "all_generation(num_of_generations,population,truth_table)"
   ]
  },
  {
   "source": [
    "we can see that having more generations, higher mutation probality helps to have bette results."
   ],
   "cell_type": "markdown",
   "metadata": {}
  },
  {
   "source": [
    "Q4. This is because we are stuck at a local minimum and the uniform crossover does not produce new children that are different from their parents. We can solve this problem by choosing a higher probability for mutation. This mutation helps produce children that are different from their parents. \n",
    "We can see how it effects our results in Q3."
   ],
   "cell_type": "markdown",
   "metadata": {}
  },
  {
   "cell_type": "code",
   "execution_count": 4697,
   "metadata": {},
   "outputs": [
    {
     "output_type": "execute_result",
     "data": {
      "text/plain": "array([860., 860., 784., 828., 808., 808., 784., 648., 736., 736., 736.,\n       672., 964., 848., 848., 848., 848., 768., 768., 800., 755., 800.,\n       800., 800., 800., 736., 800., 792., 864., 800., 840., 760., 784.,\n       864., 800., 912., 944., 792., 760., 836., 836., 848., 892., 892.,\n       800., 736., 704., 792., 752., 752., 762., 795., 860., 860., 678.,\n       736., 768., 832., 832., 832., 754., 800., 800., 960., 912., 776.,\n       694., 800., 800., 800., 800., 832., 792., 782., 832., 840., 816.,\n       880., 880., 904., 904., 832., 908., 880., 896., 832., 832., 920.,\n       920., 896., 864., 896., 896., 896., 896., 864., 864., 864., 918.,\n       918.])"
     },
     "metadata": {},
     "execution_count": 4697
    }
   ],
   "source": [
    "population = np.zeros([num_of_chromosomes, num_of_genes])\n",
    "prob_of_mutation=0.1\n",
    "population=original_pop\n",
    "num_of_generations=100\n",
    "all_generation(num_of_generations,population,truth_table)"
   ]
  },
  {
   "source": [
    "we can also see that more generation helps with better results."
   ],
   "cell_type": "markdown",
   "metadata": {}
  }
 ]
}